{
 "cells": [
  {
   "cell_type": "code",
   "execution_count": null,
   "metadata": {},
   "outputs": [],
   "source": [
    "import pandas as pd\n",
    "import os\n",
    "import cv2\n",
    "import numpy as np"
   ]
  },
  {
   "cell_type": "code",
   "execution_count": null,
   "metadata": {},
   "outputs": [],
   "source": [
    "data = pd.read_csv(\"fer2013.csv\")"
   ]
  },
  {
   "cell_type": "code",
   "execution_count": null,
   "metadata": {},
   "outputs": [],
   "source": [
    "!mkdir fer_images\n",
    "\n",
    "folders = data.Usage.unique()\n",
    "emotions = ['Angry', 'Disgust', 'Fear', 'Happy', 'Sad', 'Surprise', 'Neutral']\n",
    "dir_path = os.getcwd()\n",
    "\n",
    "for fold in folders:\n",
    "    for cnt, emo in enumerate(emotions):\n",
    "        os.makedirs(dir_path + '/fer_images/' + fold + \"/\" + str(cnt) + \" - \" + emo)\n",
    "\n",
    "def save_img():\n",
    "    for index in range(len(data)):\n",
    "        pixels = np.asarray(data.iloc[index, 1].split(' '), dtype=np.uint8)\n",
    "        img = pixels.reshape((48,48))\n",
    "\n",
    "        emotion = data.iloc[index, 0]\n",
    "        usage = data.iloc[index, 2]\n",
    "        \n",
    "        if emotion == 0:\n",
    "            path = os.path.join(dir_path + '/fer_images/'+ usage+'/0 - Angry/'+str(index)+'.jpg')\n",
    "        elif emotion == 1:\n",
    "            path = os.path.join(dir_path + '/fer_images/'+ usage+'/1 - Disgust/'+str(index)+'.jpg')\n",
    "        elif emotion == 2:\n",
    "            path = os.path.join(dir_path + '/fer_images/'+ usage+'/2 - Fear/'+str(index)+'.jpg')\n",
    "        elif emotion == 3:\n",
    "            path = os.path.join(dir_path + '/fer_images/'+ usage+'/3 - Happy/'+str(index)+'.jpg')\n",
    "        elif emotion == 4:\n",
    "            path = os.path.join(dir_path + '/fer_images/'+ usage+'/4 - Sad/'+str(index)+'.jpg')\n",
    "        elif emotion == 5:\n",
    "            path = os.path.join(dir_path + '/fer_images/'+ usage+'/5 - Surprise/'+str(index)+'.jpg')\n",
    "        elif emotion == 6:\n",
    "            path = os.path.join(dir_path + '/fer_images/'+ usage+'/6 - Neutral/'+str(index)+'.jpg')\n",
    "\n",
    "        cv2.imwrite(path, img)\n",
    "        print('image saved as {}'.format(path))\n",
    "save_img()"
   ]
  }
 ],
 "metadata": {
  "interpreter": {
   "hash": "e54d3e4c91d09d6b0032ecef18382fe1c62702e8dfa54d94c1e3aa804d5124e0"
  },
  "kernelspec": {
   "display_name": "Python 3.7.11 64-bit ('tensorflow': conda)",
   "language": "python",
   "name": "python3"
  },
  "language_info": {
   "codemirror_mode": {
    "name": "ipython",
    "version": 3
   },
   "file_extension": ".py",
   "mimetype": "text/x-python",
   "name": "python",
   "nbconvert_exporter": "python",
   "pygments_lexer": "ipython3",
   "version": "3.7.11"
  },
  "orig_nbformat": 4
 },
 "nbformat": 4,
 "nbformat_minor": 2
}
