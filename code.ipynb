{
  "cells": [
    {
      "cell_type": "code",
      "source": [
        "!wget https://www.transfernow.net/dl/20220324B3yTAKnT"
      ],
      "metadata": {
        "colab": {
          "base_uri": "https://localhost:8080/"
        },
        "id": "AI6g1nrWMB9C",
        "outputId": "cb158783-f727-47f7-e680-94942c738990"
      },
      "execution_count": 1,
      "outputs": [
        {
          "output_type": "stream",
          "name": "stdout",
          "text": [
            "--2022-03-24 19:29:34--  https://www.transfernow.net/dl/20220324B3yTAKnT\n",
            "Resolving www.transfernow.net (www.transfernow.net)... 104.26.14.166, 104.26.15.166, 172.67.72.33, ...\n",
            "Connecting to www.transfernow.net (www.transfernow.net)|104.26.14.166|:443... connected.\n",
            "HTTP request sent, awaiting response... 302 Found\n",
            "Location: https://www.transfernow.net/en/dltransfer?utm_source=20220324B3yTAKnT [following]\n",
            "--2022-03-24 19:29:34--  https://www.transfernow.net/en/dltransfer?utm_source=20220324B3yTAKnT\n",
            "Reusing existing connection to www.transfernow.net:443.\n",
            "HTTP request sent, awaiting response... 200 OK\n",
            "Length: unspecified [text/html]\n",
            "Saving to: ‘20220324B3yTAKnT.1’\n",
            "\n",
            "20220324B3yTAKnT.1      [ <=>                ]  40.19K  --.-KB/s    in 0s      \n",
            "\n",
            "2022-03-24 19:29:34 (94.3 MB/s) - ‘20220324B3yTAKnT.1’ saved [41154]\n",
            "\n"
          ]
        }
      ]
    },
    {
      "cell_type": "code",
      "source": [
        "!unzip fer_images.zip"
      ],
      "metadata": {
        "colab": {
          "base_uri": "https://localhost:8080/"
        },
        "id": "6F5T6xuZNQSD",
        "outputId": "cb6ea39c-c678-4817-c18f-df0ceb240093"
      },
      "execution_count": 2,
      "outputs": [
        {
          "output_type": "stream",
          "name": "stdout",
          "text": [
            "Archive:  fer_images.zip\n",
            "replace fer_images/.DS_Store? [y]es, [n]o, [A]ll, [N]one, [r]ename: N\n"
          ]
        }
      ]
    },
    {
      "cell_type": "code",
      "execution_count": 3,
      "metadata": {
        "id": "GtE6eYAJ3kBo"
      },
      "outputs": [],
      "source": [
        "import tensorflow as tf\n",
        "from tensorflow import keras\n",
        "from tensorflow.keras import layers\n",
        "from tensorflow.keras.layers import Dense, Conv2D, MaxPool2D, Dropout, Rescaling, Flatten, Activation\n",
        "from tensorflow.keras.models import Sequential\n"
      ]
    },
    {
      "cell_type": "code",
      "execution_count": 4,
      "metadata": {
        "colab": {
          "base_uri": "https://localhost:8080/"
        },
        "id": "qmyFg_v13kBr",
        "outputId": "59836b90-e582-45e9-9e40-ad212735bda7"
      },
      "outputs": [
        {
          "output_type": "stream",
          "name": "stdout",
          "text": [
            "Found 28709 files belonging to 7 classes.\n",
            "Found 3589 files belonging to 7 classes.\n",
            "Found 3589 files belonging to 7 classes.\n"
          ]
        }
      ],
      "source": [
        "image_size = (48,48)\n",
        "batch_size = 32\n",
        "\n",
        "trainingSet = tf.keras.preprocessing.image_dataset_from_directory(\n",
        "    \"fer_images/Training\",  \n",
        "    seed = 1337, \n",
        "    image_size = image_size, \n",
        "    batch_size = batch_size,\n",
        ")\n",
        "\n",
        "validationSet = tf.keras.preprocessing.image_dataset_from_directory(\n",
        "    \"fer_images/PrivateTest\", \n",
        "    seed = 1337, \n",
        "    image_size = image_size, \n",
        "    batch_size = batch_size,\n",
        ")\n",
        "\n",
        "testSet = tf.keras.preprocessing.image_dataset_from_directory(\n",
        "    \"fer_images/PublicTest\", \n",
        "    seed = 1337, \n",
        "    image_size = image_size, \n",
        "    batch_size = batch_size,\n",
        ")\n",
        "\n"
      ]
    },
    {
      "cell_type": "code",
      "execution_count": 5,
      "metadata": {
        "colab": {
          "base_uri": "https://localhost:8080/",
          "height": 699
        },
        "id": "1E2FMePu3kBt",
        "outputId": "f0a53549-cd47-4f41-fcc7-5a2e39149b21"
      },
      "outputs": [
        {
          "output_type": "display_data",
          "data": {
            "text/plain": [
              "<Figure size 864x864 with 9 Axes>"
            ],
            "image/png": "[encoded data removed]"
          },
          "metadata": {
            "needs_background": "light"
          }
        }
      ],
      "source": [
        "# %%\n",
        "import matplotlib.pyplot as plt\n",
        "\n",
        "plt.figure(figsize=(12, 12))\n",
        "for images, labels in trainingSet.take(1):\n",
        "    for i in range(9):\n",
        "        ax = plt.subplot(3, 3, i + 1)\n",
        "        plt.imshow(images[i].numpy().astype(\"uint8\"))\n",
        "        plt.title(int(labels[i]))\n",
        "        plt.axis(\"off\")\n",
        "plt.show()"
      ]
    },
    {
      "cell_type": "code",
      "execution_count": 6,
      "metadata": {
        "id": "kQfPfunY3kBu"
      },
      "outputs": [],
      "source": [
        "def my_model(input_shape, num_classes):\n",
        "    #inputs = tf.keras.Input(shape=input_shape)\n",
        "    # Image augmentation block\n",
        "    #x = data_augmentation(inputs)\n",
        "    model = Sequential()\n",
        "\n",
        "    # Entry block\n",
        "    model.add(Rescaling(1.0 / 255))\n",
        "    model.add(Conv2D(64, (5, 5), strides=2, padding=\"same\"))\n",
        "    model.add(Activation(\"relu\"))\n",
        "    model.add(MaxPool2D(pool_size=3, strides=2))\n",
        "\n",
        "\n",
        "    model.add(Conv2D(64, (5, 5), padding=\"same\"))\n",
        "    model.add(Activation(\"relu\"))\n",
        "    model.add(MaxPool2D(pool_size=3, strides=2))\n",
        "\n",
        "    model.add(Conv2D(128, (4,4), padding=\"same\"))\n",
        "    model.add(Activation(\"relu\"))\n",
        "\n",
        "    model.add(Dropout(0.5))\n",
        "    model.add(Flatten())\n",
        "    model.add(Dense(\n",
        "        units = 3072, \n",
        "        activation = 'relu'\n",
        "    ))\n",
        "\n",
        "    model.add(Dense(7, activation='softmax'))\n",
        "    epochs = 100\n",
        "\n",
        "\n",
        "    model.compile(\n",
        "        optimizer=keras.optimizers.Adam(1e-3),\n",
        "        loss=\"sparse_categorical_crossentropy\",\n",
        "        metrics=[\"accuracy\"],\n",
        "    )\n",
        "    model.fit(\n",
        "        trainingSet, epochs=epochs, batch_size = 16, validation_data=validationSet,\n",
        "    )\n",
        "    \n",
        "    return model"
      ]
    },
    {
      "cell_type": "code",
      "execution_count": 7,
      "metadata": {
        "id": "hgdBaBSh3kBv",
        "colab": {
          "base_uri": "https://localhost:8080/"
        },
        "outputId": "1827c907-a8ac-453d-af71-a9e7e1c68192"
      },
      "outputs": [
        {
          "output_type": "stream",
          "name": "stdout",
          "text": [
            "Epoch 1/100\n",
            "898/898 [==============================] - 14s 13ms/step - loss: 1.7051 - accuracy: 0.3120 - val_loss: 1.5935 - val_accuracy: 0.3664\n",
            "Epoch 2/100\n",
            "898/898 [==============================] - 11s 12ms/step - loss: 1.5470 - accuracy: 0.3921 - val_loss: 1.4774 - val_accuracy: 0.4285\n",
            "Epoch 3/100\n",
            "898/898 [==============================] - 11s 12ms/step - loss: 1.4720 - accuracy: 0.4244 - val_loss: 1.4271 - val_accuracy: 0.4508\n",
            "Epoch 4/100\n",
            "898/898 [==============================] - 11s 13ms/step - loss: 1.4133 - accuracy: 0.4552 - val_loss: 1.4269 - val_accuracy: 0.4583\n",
            "Epoch 5/100\n",
            "898/898 [==============================] - 11s 13ms/step - loss: 1.3623 - accuracy: 0.4749 - val_loss: 1.3687 - val_accuracy: 0.4684\n",
            "Epoch 6/100\n",
            "898/898 [==============================] - 11s 12ms/step - loss: 1.3153 - accuracy: 0.4942 - val_loss: 1.3464 - val_accuracy: 0.4684\n",
            "Epoch 7/100\n",
            "898/898 [==============================] - 11s 12ms/step - loss: 1.2678 - accuracy: 0.5138 - val_loss: 1.3267 - val_accuracy: 0.4845\n",
            "Epoch 8/100\n",
            "898/898 [==============================] - 11s 12ms/step - loss: 1.2095 - accuracy: 0.5367 - val_loss: 1.3825 - val_accuracy: 0.4634\n",
            "Epoch 9/100\n",
            "898/898 [==============================] - 11s 13ms/step - loss: 1.1490 - accuracy: 0.5628 - val_loss: 1.3272 - val_accuracy: 0.4904\n",
            "Epoch 10/100\n",
            "898/898 [==============================] - 11s 12ms/step - loss: 1.0789 - accuracy: 0.5933 - val_loss: 1.3531 - val_accuracy: 0.4968\n",
            "Epoch 11/100\n",
            "898/898 [==============================] - 11s 12ms/step - loss: 1.0062 - accuracy: 0.6209 - val_loss: 1.3552 - val_accuracy: 0.4940\n",
            "Epoch 12/100\n",
            "898/898 [==============================] - 11s 12ms/step - loss: 0.9306 - accuracy: 0.6583 - val_loss: 1.4254 - val_accuracy: 0.4806\n",
            "Epoch 13/100\n",
            "898/898 [==============================] - 11s 13ms/step - loss: 0.8498 - accuracy: 0.6842 - val_loss: 1.3834 - val_accuracy: 0.4968\n",
            "Epoch 14/100\n",
            "898/898 [==============================] - 11s 12ms/step - loss: 0.7781 - accuracy: 0.7147 - val_loss: 1.4423 - val_accuracy: 0.4854\n",
            "Epoch 15/100\n",
            "898/898 [==============================] - 11s 12ms/step - loss: 0.7109 - accuracy: 0.7412 - val_loss: 1.5177 - val_accuracy: 0.4806\n",
            "Epoch 16/100\n",
            "898/898 [==============================] - 11s 12ms/step - loss: 0.6403 - accuracy: 0.7664 - val_loss: 1.5288 - val_accuracy: 0.5102\n",
            "Epoch 17/100\n",
            "898/898 [==============================] - 12s 13ms/step - loss: 0.5877 - accuracy: 0.7903 - val_loss: 1.5586 - val_accuracy: 0.4999\n",
            "Epoch 18/100\n",
            "898/898 [==============================] - 11s 12ms/step - loss: 0.5495 - accuracy: 0.8034 - val_loss: 1.5914 - val_accuracy: 0.4979\n",
            "Epoch 19/100\n",
            "898/898 [==============================] - 11s 12ms/step - loss: 0.4988 - accuracy: 0.8256 - val_loss: 1.6969 - val_accuracy: 0.4921\n",
            "Epoch 20/100\n",
            "898/898 [==============================] - 11s 13ms/step - loss: 0.4706 - accuracy: 0.8286 - val_loss: 1.6768 - val_accuracy: 0.4879\n",
            "Epoch 21/100\n",
            "898/898 [==============================] - 11s 12ms/step - loss: 0.4384 - accuracy: 0.8461 - val_loss: 1.7523 - val_accuracy: 0.4974\n",
            "Epoch 22/100\n",
            "898/898 [==============================] - 11s 12ms/step - loss: 0.4035 - accuracy: 0.8609 - val_loss: 1.7137 - val_accuracy: 0.5049\n",
            "Epoch 23/100\n",
            "898/898 [==============================] - 11s 12ms/step - loss: 0.3862 - accuracy: 0.8659 - val_loss: 1.8689 - val_accuracy: 0.5082\n",
            "Epoch 24/100\n",
            "898/898 [==============================] - 11s 12ms/step - loss: 0.3745 - accuracy: 0.8714 - val_loss: 1.8293 - val_accuracy: 0.4817\n",
            "Epoch 25/100\n",
            "898/898 [==============================] - 11s 12ms/step - loss: 0.3515 - accuracy: 0.8773 - val_loss: 1.9543 - val_accuracy: 0.5004\n",
            "Epoch 26/100\n",
            "898/898 [==============================] - 11s 13ms/step - loss: 0.3385 - accuracy: 0.8841 - val_loss: 1.9272 - val_accuracy: 0.4921\n",
            "Epoch 27/100\n",
            "898/898 [==============================] - 11s 12ms/step - loss: 0.3261 - accuracy: 0.8905 - val_loss: 1.9631 - val_accuracy: 0.5068\n",
            "Epoch 28/100\n",
            "898/898 [==============================] - 11s 12ms/step - loss: 0.3128 - accuracy: 0.8959 - val_loss: 1.9470 - val_accuracy: 0.4943\n",
            "Epoch 29/100\n",
            "898/898 [==============================] - 11s 12ms/step - loss: 0.2880 - accuracy: 0.9048 - val_loss: 2.0869 - val_accuracy: 0.4985\n",
            "Epoch 30/100\n",
            "898/898 [==============================] - 11s 12ms/step - loss: 0.2958 - accuracy: 0.9024 - val_loss: 2.0019 - val_accuracy: 0.4943\n",
            "Epoch 31/100\n",
            "898/898 [==============================] - 11s 12ms/step - loss: 0.2966 - accuracy: 0.9035 - val_loss: 2.0760 - val_accuracy: 0.4904\n",
            "Epoch 32/100\n",
            "898/898 [==============================] - 11s 12ms/step - loss: 0.2793 - accuracy: 0.9077 - val_loss: 2.1065 - val_accuracy: 0.5004\n",
            "Epoch 33/100\n",
            "898/898 [==============================] - 11s 12ms/step - loss: 0.2640 - accuracy: 0.9147 - val_loss: 2.1542 - val_accuracy: 0.4965\n",
            "Epoch 34/100\n",
            "898/898 [==============================] - 11s 12ms/step - loss: 0.2633 - accuracy: 0.9142 - val_loss: 2.0879 - val_accuracy: 0.5079\n",
            "Epoch 35/100\n",
            "898/898 [==============================] - 11s 12ms/step - loss: 0.2550 - accuracy: 0.9176 - val_loss: 2.1913 - val_accuracy: 0.5063\n",
            "Epoch 36/100\n",
            "898/898 [==============================] - 11s 13ms/step - loss: 0.2525 - accuracy: 0.9203 - val_loss: 2.1852 - val_accuracy: 0.4904\n",
            "Epoch 37/100\n",
            "898/898 [==============================] - 11s 13ms/step - loss: 0.2452 - accuracy: 0.9228 - val_loss: 2.2150 - val_accuracy: 0.5013\n",
            "Epoch 38/100\n",
            "898/898 [==============================] - 12s 13ms/step - loss: 0.2459 - accuracy: 0.9216 - val_loss: 2.2193 - val_accuracy: 0.5043\n",
            "Epoch 39/100\n",
            "898/898 [==============================] - 11s 13ms/step - loss: 0.2331 - accuracy: 0.9256 - val_loss: 2.1863 - val_accuracy: 0.4929\n",
            "Epoch 40/100\n",
            "898/898 [==============================] - 12s 13ms/step - loss: 0.2503 - accuracy: 0.9212 - val_loss: 2.2833 - val_accuracy: 0.5060\n",
            "Epoch 41/100\n",
            "898/898 [==============================] - 12s 13ms/step - loss: 0.2409 - accuracy: 0.9240 - val_loss: 2.2605 - val_accuracy: 0.5068\n",
            "Epoch 42/100\n",
            "898/898 [==============================] - 11s 13ms/step - loss: 0.2171 - accuracy: 0.9306 - val_loss: 2.3582 - val_accuracy: 0.4946\n",
            "Epoch 43/100\n",
            "898/898 [==============================] - 12s 13ms/step - loss: 0.2171 - accuracy: 0.9323 - val_loss: 2.3493 - val_accuracy: 0.4990\n",
            "Epoch 44/100\n",
            "898/898 [==============================] - 11s 12ms/step - loss: 0.2319 - accuracy: 0.9287 - val_loss: 2.3535 - val_accuracy: 0.4943\n",
            "Epoch 45/100\n",
            "898/898 [==============================] - 11s 12ms/step - loss: 0.2180 - accuracy: 0.9330 - val_loss: 2.3613 - val_accuracy: 0.5088\n",
            "Epoch 46/100\n",
            "898/898 [==============================] - 12s 13ms/step - loss: 0.2154 - accuracy: 0.9331 - val_loss: 2.5139 - val_accuracy: 0.5007\n",
            "Epoch 47/100\n",
            "898/898 [==============================] - 11s 12ms/step - loss: 0.2126 - accuracy: 0.9354 - val_loss: 2.4786 - val_accuracy: 0.4940\n",
            "Epoch 48/100\n",
            "898/898 [==============================] - 12s 13ms/step - loss: 0.2093 - accuracy: 0.9350 - val_loss: 2.6542 - val_accuracy: 0.4962\n",
            "Epoch 49/100\n",
            "898/898 [==============================] - 12s 13ms/step - loss: 0.2184 - accuracy: 0.9352 - val_loss: 2.5216 - val_accuracy: 0.4882\n",
            "Epoch 50/100\n",
            "898/898 [==============================] - 11s 13ms/step - loss: 0.2179 - accuracy: 0.9331 - val_loss: 2.5339 - val_accuracy: 0.4901\n",
            "Epoch 51/100\n",
            "898/898 [==============================] - 11s 12ms/step - loss: 0.2036 - accuracy: 0.9381 - val_loss: 2.4054 - val_accuracy: 0.5052\n",
            "Epoch 52/100\n",
            "898/898 [==============================] - 11s 13ms/step - loss: 0.1930 - accuracy: 0.9425 - val_loss: 2.4193 - val_accuracy: 0.4982\n",
            "Epoch 53/100\n",
            "898/898 [==============================] - 12s 13ms/step - loss: 0.1914 - accuracy: 0.9430 - val_loss: 2.4852 - val_accuracy: 0.5004\n",
            "Epoch 54/100\n",
            "898/898 [==============================] - 12s 13ms/step - loss: 0.1932 - accuracy: 0.9424 - val_loss: 2.5677 - val_accuracy: 0.4987\n",
            "Epoch 55/100\n",
            "898/898 [==============================] - 11s 13ms/step - loss: 0.1995 - accuracy: 0.9407 - val_loss: 2.6148 - val_accuracy: 0.5013\n",
            "Epoch 56/100\n",
            "898/898 [==============================] - 11s 13ms/step - loss: 0.2014 - accuracy: 0.9406 - val_loss: 2.6523 - val_accuracy: 0.5038\n",
            "Epoch 57/100\n",
            "898/898 [==============================] - 11s 13ms/step - loss: 0.1923 - accuracy: 0.9434 - val_loss: 2.5749 - val_accuracy: 0.4976\n",
            "Epoch 58/100\n",
            "898/898 [==============================] - 11s 12ms/step - loss: 0.1878 - accuracy: 0.9435 - val_loss: 2.8757 - val_accuracy: 0.4951\n",
            "Epoch 59/100\n",
            "898/898 [==============================] - 11s 12ms/step - loss: 0.1949 - accuracy: 0.9445 - val_loss: 2.6972 - val_accuracy: 0.4884\n",
            "Epoch 60/100\n",
            "898/898 [==============================] - 11s 12ms/step - loss: 0.1883 - accuracy: 0.9439 - val_loss: 2.6345 - val_accuracy: 0.4999\n",
            "Epoch 61/100\n",
            "898/898 [==============================] - 11s 12ms/step - loss: 0.1788 - accuracy: 0.9466 - val_loss: 2.7521 - val_accuracy: 0.4823\n",
            "Epoch 62/100\n",
            "898/898 [==============================] - 11s 12ms/step - loss: 0.1893 - accuracy: 0.9475 - val_loss: 2.7342 - val_accuracy: 0.4993\n",
            "Epoch 63/100\n",
            "898/898 [==============================] - 11s 12ms/step - loss: 0.1923 - accuracy: 0.9442 - val_loss: 2.8605 - val_accuracy: 0.5146\n",
            "Epoch 64/100\n",
            "898/898 [==============================] - 11s 12ms/step - loss: 0.1979 - accuracy: 0.9454 - val_loss: 2.6526 - val_accuracy: 0.5046\n",
            "Epoch 65/100\n",
            "898/898 [==============================] - 11s 12ms/step - loss: 0.1862 - accuracy: 0.9463 - val_loss: 2.9480 - val_accuracy: 0.4979\n",
            "Epoch 66/100\n",
            "898/898 [==============================] - 11s 13ms/step - loss: 0.1873 - accuracy: 0.9490 - val_loss: 2.7328 - val_accuracy: 0.5107\n",
            "Epoch 67/100\n",
            "898/898 [==============================] - 11s 12ms/step - loss: 0.1871 - accuracy: 0.9479 - val_loss: 2.9525 - val_accuracy: 0.5096\n",
            "Epoch 68/100\n",
            "898/898 [==============================] - 11s 12ms/step - loss: 0.1779 - accuracy: 0.9514 - val_loss: 2.7434 - val_accuracy: 0.5127\n",
            "Epoch 69/100\n",
            "898/898 [==============================] - 11s 12ms/step - loss: 0.1829 - accuracy: 0.9486 - val_loss: 2.6916 - val_accuracy: 0.5057\n",
            "Epoch 70/100\n",
            "898/898 [==============================] - 11s 12ms/step - loss: 0.1861 - accuracy: 0.9492 - val_loss: 2.6176 - val_accuracy: 0.4929\n",
            "Epoch 71/100\n",
            "898/898 [==============================] - 11s 12ms/step - loss: 0.1670 - accuracy: 0.9525 - val_loss: 2.8397 - val_accuracy: 0.5118\n",
            "Epoch 72/100\n",
            "898/898 [==============================] - 12s 13ms/step - loss: 0.1869 - accuracy: 0.9483 - val_loss: 2.7856 - val_accuracy: 0.4957\n",
            "Epoch 73/100\n",
            "898/898 [==============================] - 12s 13ms/step - loss: 0.1952 - accuracy: 0.9460 - val_loss: 2.8446 - val_accuracy: 0.5043\n",
            "Epoch 74/100\n",
            "898/898 [==============================] - 11s 12ms/step - loss: 0.1814 - accuracy: 0.9505 - val_loss: 2.7848 - val_accuracy: 0.5104\n",
            "Epoch 75/100\n",
            "898/898 [==============================] - 11s 12ms/step - loss: 0.1718 - accuracy: 0.9527 - val_loss: 3.3023 - val_accuracy: 0.5029\n",
            "Epoch 76/100\n",
            "898/898 [==============================] - 11s 13ms/step - loss: 0.1890 - accuracy: 0.9484 - val_loss: 2.6144 - val_accuracy: 0.5040\n",
            "Epoch 77/100\n",
            "898/898 [==============================] - 12s 13ms/step - loss: 0.1684 - accuracy: 0.9554 - val_loss: 2.8678 - val_accuracy: 0.5093\n",
            "Epoch 78/100\n",
            "898/898 [==============================] - 11s 12ms/step - loss: 0.1784 - accuracy: 0.9518 - val_loss: 2.9025 - val_accuracy: 0.5032\n",
            "Epoch 79/100\n",
            "898/898 [==============================] - 11s 12ms/step - loss: 0.1813 - accuracy: 0.9529 - val_loss: 3.0885 - val_accuracy: 0.5018\n",
            "Epoch 80/100\n",
            "898/898 [==============================] - 11s 12ms/step - loss: 0.1676 - accuracy: 0.9553 - val_loss: 2.9256 - val_accuracy: 0.4898\n",
            "Epoch 81/100\n",
            "898/898 [==============================] - 11s 12ms/step - loss: 0.1609 - accuracy: 0.9567 - val_loss: 3.0865 - val_accuracy: 0.4968\n",
            "Epoch 82/100\n",
            "898/898 [==============================] - 11s 12ms/step - loss: 0.1832 - accuracy: 0.9520 - val_loss: 2.9817 - val_accuracy: 0.5146\n",
            "Epoch 83/100\n",
            "898/898 [==============================] - 11s 12ms/step - loss: 0.1689 - accuracy: 0.9541 - val_loss: 2.8924 - val_accuracy: 0.5082\n",
            "Epoch 84/100\n",
            "898/898 [==============================] - 11s 12ms/step - loss: 0.1766 - accuracy: 0.9552 - val_loss: 3.3304 - val_accuracy: 0.4990\n",
            "Epoch 85/100\n",
            "898/898 [==============================] - 11s 12ms/step - loss: 0.1757 - accuracy: 0.9545 - val_loss: 3.4129 - val_accuracy: 0.5052\n",
            "Epoch 86/100\n",
            "898/898 [==============================] - 11s 12ms/step - loss: 0.1685 - accuracy: 0.9561 - val_loss: 3.1351 - val_accuracy: 0.5113\n",
            "Epoch 87/100\n",
            "898/898 [==============================] - 11s 12ms/step - loss: 0.1629 - accuracy: 0.9573 - val_loss: 2.9899 - val_accuracy: 0.5091\n",
            "Epoch 88/100\n",
            "898/898 [==============================] - 11s 12ms/step - loss: 0.1778 - accuracy: 0.9546 - val_loss: 2.9322 - val_accuracy: 0.5018\n",
            "Epoch 89/100\n",
            "898/898 [==============================] - 11s 12ms/step - loss: 0.1785 - accuracy: 0.9535 - val_loss: 3.0431 - val_accuracy: 0.4999\n",
            "Epoch 90/100\n",
            "898/898 [==============================] - 11s 12ms/step - loss: 0.1726 - accuracy: 0.9538 - val_loss: 2.9806 - val_accuracy: 0.5001\n",
            "Epoch 91/100\n",
            "898/898 [==============================] - 11s 12ms/step - loss: 0.1639 - accuracy: 0.9576 - val_loss: 3.1830 - val_accuracy: 0.4918\n",
            "Epoch 92/100\n",
            "898/898 [==============================] - 11s 12ms/step - loss: 0.1799 - accuracy: 0.9552 - val_loss: 3.4076 - val_accuracy: 0.4999\n",
            "Epoch 93/100\n",
            "898/898 [==============================] - 11s 12ms/step - loss: 0.1693 - accuracy: 0.9567 - val_loss: 3.1208 - val_accuracy: 0.5032\n",
            "Epoch 94/100\n",
            "898/898 [==============================] - 11s 12ms/step - loss: 0.1670 - accuracy: 0.9573 - val_loss: 3.4555 - val_accuracy: 0.5040\n",
            "Epoch 95/100\n",
            "898/898 [==============================] - 11s 12ms/step - loss: 0.1616 - accuracy: 0.9599 - val_loss: 3.1643 - val_accuracy: 0.5060\n",
            "Epoch 96/100\n",
            "898/898 [==============================] - 11s 12ms/step - loss: 0.1726 - accuracy: 0.9560 - val_loss: 3.2714 - val_accuracy: 0.4960\n",
            "Epoch 97/100\n",
            "898/898 [==============================] - 11s 12ms/step - loss: 0.1550 - accuracy: 0.9592 - val_loss: 3.3031 - val_accuracy: 0.4982\n",
            "Epoch 98/100\n",
            "898/898 [==============================] - 11s 12ms/step - loss: 0.1662 - accuracy: 0.9582 - val_loss: 3.2762 - val_accuracy: 0.5093\n",
            "Epoch 99/100\n",
            "898/898 [==============================] - 11s 12ms/step - loss: 0.1737 - accuracy: 0.9565 - val_loss: 3.1772 - val_accuracy: 0.5040\n",
            "Epoch 100/100\n",
            "898/898 [==============================] - 11s 12ms/step - loss: 0.1621 - accuracy: 0.9589 - val_loss: 3.7683 - val_accuracy: 0.5032\n"
          ]
        }
      ],
      "source": [
        "model = my_model(image_size + (3,), 7)"
      ]
    },
    {
      "cell_type": "code",
      "source": [
        "model.save_weights('model.h5')"
      ],
      "metadata": {
        "id": "VqhAwQW1U3kz"
      },
      "execution_count": 10,
      "outputs": []
    }
  ],
  "metadata": {
    "interpreter": {
      "hash": "e54d3e4c91d09d6b0032ecef18382fe1c62702e8dfa54d94c1e3aa804d5124e0"
    },
    "kernelspec": {
      "display_name": "Python 3.7.11 ('tensorflow')",
      "language": "python",
      "name": "python3"
    },
    "language_info": {
      "codemirror_mode": {
        "name": "ipython",
        "version": 3
      },
      "file_extension": ".py",
      "mimetype": "text/x-python",
      "name": "python",
      "nbconvert_exporter": "python",
      "pygments_lexer": "ipython3",
      "version": "3.7.11"
    },
    "orig_nbformat": 4,
    "colab": {
      "name": "code.ipynb",
      "provenance": []
    },
    "accelerator": "GPU"
  },
  "nbformat": 4,
  "nbformat_minor": 0
}