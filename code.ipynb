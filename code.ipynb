{
 "cells": [
  {
   "cell_type": "code",
   "execution_count": null,
   "metadata": {},
   "outputs": [],
   "source": [
    "import tensorflow as tf\n",
    "from tensorflow import keras\n",
    "from tensorflow.keras import layers\n",
    "from tensorflow.keras.layers import Dense, Conv2D, MaxPool2D, Dropout, Rescaling, Flatten, Activation\n",
    "from tensorflow.keras.models import Sequential\n"
   ]
  },
  {
   "cell_type": "code",
   "execution_count": null,
   "metadata": {},
   "outputs": [],
   "source": [
    "image_size = (48,48)\n",
    "batch_size = 32\n",
    "\n",
    "trainingSet = tf.keras.preprocessing.image_dataset_from_directory(\n",
    "    \"fer_images/Training\",  \n",
    "    seed = 1337, \n",
    "    image_size = image_size, \n",
    "    batch_size = batch_size,\n",
    ")\n",
    "\n",
    "validationSet = tf.keras.preprocessing.image_dataset_from_directory(\n",
    "    \"fer_images/PrivateTest\", \n",
    "    seed = 1337, \n",
    "    image_size = image_size, \n",
    "    batch_size = batch_size,\n",
    ")\n",
    "\n",
    "testSet = tf.keras.preprocessing.image_dataset_from_directory(\n",
    "    \"fer_images/PublicTest\", \n",
    "    seed = 1337, \n",
    "    image_size = image_size, \n",
    "    batch_size = batch_size,\n",
    ")"
   ]
  },
  {
   "cell_type": "code",
   "execution_count": null,
   "metadata": {},
   "outputs": [],
   "source": [
    "# %%\n",
    "import matplotlib.pyplot as plt\n",
    "\n",
    "plt.figure(figsize=(12, 12))\n",
    "for images, labels in trainingSet.take(1):\n",
    "    for i in range(9):\n",
    "        ax = plt.subplot(3, 3, i + 1)\n",
    "        plt.imshow(images[i].numpy().astype(\"uint8\"))\n",
    "        plt.title(int(labels[i]))\n",
    "        plt.axis(\"off\")\n",
    "plt.show()"
   ]
  },
  {
   "cell_type": "code",
   "execution_count": null,
   "metadata": {},
   "outputs": [],
   "source": [
    "def my_model(input_shape, num_classes):\n",
    "    #inputs = tf.keras.Input(shape=input_shape)\n",
    "    # Image augmentation block\n",
    "    #x = data_augmentation(inputs)\n",
    "    model = Sequential()\n",
    "\n",
    "    # Entry block\n",
    "    model.add(Rescaling(1.0 / 255))\n",
    "    model.add(Conv2D(64, (5, 5), strides=2, padding=\"same\"))\n",
    "    model.add(Activation(\"relu\"))\n",
    "    model.add(MaxPool2D(pool_size=3, strides=2))\n",
    "\n",
    "\n",
    "    model.add(Conv2D(64, (5, 5), padding=\"same\"))\n",
    "    model.add(Activation(\"relu\"))\n",
    "    model.add(MaxPool2D(pool_size=3, strides=2))\n",
    "\n",
    "    model.add(Conv2D(128, (4,4), padding=\"same\"))\n",
    "    model.add(Activation(\"relu\"))\n",
    "\n",
    "    model.add(Dropout(0.5))\n",
    "    model.add(Flatten())\n",
    "    model.add(Dense(units = 3072, activation = 'relu'))\n",
    "\n",
    "    model.add(Dense(7, activation='softmax'))\n",
    "    \n",
    "    epochs = 100\n",
    "\n",
    "    model.compile(\n",
    "        optimizer=keras.optimizers.Adam(1e-3),\n",
    "        loss=\"sparse_categorical_crossentropy\",\n",
    "        metrics=[\"accuracy\"],\n",
    "    )\n",
    "    model.fit(\n",
    "        trainingSet, epochs=epochs, batch_size = 16, validation_data=validationSet,\n",
    "    )\n",
    "\n",
    "    return model"
   ]
  },
  {
   "cell_type": "code",
   "execution_count": null,
   "metadata": {},
   "outputs": [],
   "source": [
    "model = my_model(image_size + (3,), 7)"
   ]
  }
 ],
 "metadata": {
  "interpreter": {
   "hash": "e54d3e4c91d09d6b0032ecef18382fe1c62702e8dfa54d94c1e3aa804d5124e0"
  },
  "kernelspec": {
   "display_name": "Python 3.7.11 ('tensorflow')",
   "language": "python",
   "name": "python3"
  },
  "language_info": {
   "codemirror_mode": {
    "name": "ipython",
    "version": 3
   },
   "file_extension": ".py",
   "mimetype": "text/x-python",
   "name": "python",
   "nbconvert_exporter": "python",
   "pygments_lexer": "ipython3",
   "version": "3.7.11"
  },
  "orig_nbformat": 4
 },
 "nbformat": 4,
 "nbformat_minor": 2
}
